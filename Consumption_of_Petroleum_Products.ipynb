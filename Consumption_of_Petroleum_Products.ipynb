{
  "nbformat": 4,
  "nbformat_minor": 0,
  "metadata": {
    "colab": {
      "provenance": [],
      "collapsed_sections": [
        "EzzU9ujr6lO8",
        "kZiIMYnRahCl",
        "aqYx4mLFbR7L",
        "pTVst-6Xe9mV",
        "DsWiMrPPflRr",
        "SDRti3JOgYSK",
        "qvQTh1qklTDv",
        "QYeuFD0Hsc2l"
      ],
      "mount_file_id": "1nO5zjFAGDfyJ36Vp1-z8y3AtzYuZlxJ8",
      "authorship_tag": "ABX9TyPAlC6CWiH1G+CR2fJbrri4"
    },
    "kernelspec": {
      "name": "python3",
      "display_name": "Python 3"
    },
    "language_info": {
      "name": "python"
    }
  },
  "cells": [
    {
      "cell_type": "markdown",
      "source": [
        "# **A Data Analysis on Consumption of Petroleum Products in India**\n",
        "\n",
        "# *Real-time Data*"
      ],
      "metadata": {
        "id": "LQvEDEC6c2-5"
      }
    },
    {
      "cell_type": "markdown",
      "source": [
        "##**Data Source**"
      ],
      "metadata": {
        "id": "EzzU9ujr6lO8"
      }
    },
    {
      "cell_type": "code",
      "source": [
        "import pandas as pd\n",
        "import numpy as np\n",
        "import matplotlib.pyplot as plt\n",
        "path = (\"/content/drive/MyDrive/Dataset/productconsumption.csv\")\n",
        "df=pd.read_csv(path)\n",
        "print(df)"
      ],
      "metadata": {
        "colab": {
          "base_uri": "https://localhost:8080/"
        },
        "id": "RbAflPXRdF5K",
        "outputId": "15944bdd-6e6e-4b75-e6bf-273fcd90be08"
      },
      "execution_count": null,
      "outputs": [
        {
          "output_type": "stream",
          "name": "stdout",
          "text": [
            "      Month  Year PRODUCTS  Quantity (000 Metric Tonnes) updated_date\n",
            "0    August  2023      ATF                        676.75   2024-01-03\n",
            "1      July  2023      ATF                        663.23   2024-01-03\n",
            "2      June  2023      ATF                        642.33   2024-01-03\n",
            "3       May  2023      ATF                        670.58   2024-01-03\n",
            "4     April  2023      ATF                        655.98   2024-01-03\n",
            "..      ...   ...      ...                           ...          ...\n",
            "487  August  2020      SKO                        132.00   2024-01-03\n",
            "488    July  2020      SKO                        161.00   2024-01-03\n",
            "489    June  2020      SKO                        161.00   2024-01-03\n",
            "490     May  2020      SKO                        181.00   2024-01-03\n",
            "491   April  2020      SKO                        129.00   2024-01-03\n",
            "\n",
            "[492 rows x 5 columns]\n"
          ]
        }
      ]
    },
    {
      "cell_type": "markdown",
      "source": [
        "## **Total consumption for each product**"
      ],
      "metadata": {
        "id": "kZiIMYnRahCl"
      }
    },
    {
      "cell_type": "code",
      "source": [
        "p_c=df.groupby(\"PRODUCTS\")[\"Quantity (000 Metric Tonnes)\"].sum()\n",
        "print(\"The total consumption for each product is\\n\\n\",p_c)"
      ],
      "metadata": {
        "colab": {
          "base_uri": "https://localhost:8080/"
        },
        "id": "wWbXmUmJan2q",
        "outputId": "731c15b4-00d1-455a-9c9d-1a656b70f0fe"
      },
      "execution_count": null,
      "outputs": [
        {
          "output_type": "stream",
          "name": "stdout",
          "text": [
            "The total consumption for each product is\n",
            "\n",
            " PRODUCTS\n",
            "ATF                      19393.93\n",
            "Bitumen                  26891.31\n",
            "FO & LSHS                21576.08\n",
            "HSD                     272768.90\n",
            "LDO                       2933.25\n",
            "LPG                      95899.56\n",
            "Lubricants & Greases     14025.86\n",
            "MS                      109249.89\n",
            "Naphtha                  45048.91\n",
            "Others                   46845.32\n",
            "Petroleum coke           56409.52\n",
            "SKO                       4005.79\n",
            "Name: Quantity (000 Metric Tonnes), dtype: float64\n"
          ]
        }
      ]
    },
    {
      "cell_type": "code",
      "source": [
        "p_c.describe()"
      ],
      "metadata": {
        "colab": {
          "base_uri": "https://localhost:8080/"
        },
        "id": "8i5-XR4M5q03",
        "outputId": "86400d59-2aa7-4048-c451-6e62ae5b0974"
      },
      "execution_count": null,
      "outputs": [
        {
          "output_type": "execute_result",
          "data": {
            "text/plain": [
              "count        12.000000\n",
              "mean      59587.360000\n",
              "std       75147.967265\n",
              "min        2933.250000\n",
              "25%       18051.912500\n",
              "50%       35970.110000\n",
              "75%       66282.030000\n",
              "max      272768.900000\n",
              "Name: Quantity (000 Metric Tonnes), dtype: float64"
            ]
          },
          "metadata": {},
          "execution_count": 7
        }
      ]
    },
    {
      "cell_type": "markdown",
      "source": [
        "## **Average monthly consumption for each product**"
      ],
      "metadata": {
        "id": "aqYx4mLFbR7L"
      }
    },
    {
      "cell_type": "code",
      "source": [
        "a_m_c=df.groupby([\"PRODUCTS\",\"Year\"])[\"Quantity (000 Metric Tonnes)\"].mean()\n",
        "print(\"The Average Monthly Consumption for each product throughout the year is:\\n\\n\",a_m_c.unstack())"
      ],
      "metadata": {
        "colab": {
          "base_uri": "https://localhost:8080/"
        },
        "id": "9-k06Ki3bYy7",
        "outputId": "ff38cc96-7812-48f9-8e00-0df02a81222e"
      },
      "execution_count": null,
      "outputs": [
        {
          "output_type": "stream",
          "name": "stdout",
          "text": [
            "The Average Monthly Consumption for each product throughout the year is:\n",
            "\n",
            " Year                         2020         2021         2022        2023\n",
            "PRODUCTS                                                               \n",
            "ATF                    261.333333   410.160833   569.060833   661.40875\n",
            "Bitumen                537.777778   654.073333   670.867500   769.00250\n",
            "FO & LSHS              454.333333   508.150000   571.534167   566.35875\n",
            "HSD                   5790.333333  6389.809167  7042.197500  7433.97750\n",
            "LDO                     64.111111    86.485000    66.625000    64.86625\n",
            "LPG                   2283.333333  2319.456667  2385.599167  2361.11125\n",
            "Lubricants & Greases   324.333333   374.197500   325.841667   338.29875\n",
            "MS                    2238.444444  2561.754167  2849.650833  3020.87875\n",
            "Naphtha               1154.888889  1127.024167  1018.769167  1113.17375\n",
            "Others                1054.777778  1039.167500  1211.055833  1293.70500\n",
            "Petroleum coke        1391.555556  1055.120833  1508.927500  1639.61750\n",
            "SKO                    151.111111   131.162500    62.517500    40.20375\n"
          ]
        }
      ]
    },
    {
      "cell_type": "markdown",
      "source": [
        "## **Variability in consumption of products**"
      ],
      "metadata": {
        "id": "pTVst-6Xe9mV"
      }
    },
    {
      "cell_type": "code",
      "source": [
        "import statistics\n",
        "stv=statistics.stdev(p_c)\n",
        "print(\"The standard deviation for the product consumption is\",stv)"
      ],
      "metadata": {
        "colab": {
          "base_uri": "https://localhost:8080/"
        },
        "id": "Jol7R1FXfH1k",
        "outputId": "1169e1b2-0f5f-4528-97b7-33f4342b7000"
      },
      "execution_count": null,
      "outputs": [
        {
          "output_type": "stream",
          "name": "stdout",
          "text": [
            "The standard deviation for the product consumption is 75147.96726474498\n"
          ]
        }
      ]
    },
    {
      "cell_type": "markdown",
      "source": [
        "## **The Maximum product consumption for each product on monthly basis**\n",
        "\n",
        "---\n",
        "\n"
      ],
      "metadata": {
        "id": "DsWiMrPPflRr"
      }
    },
    {
      "cell_type": "code",
      "source": [
        "m_p_c=df.groupby([\"Month\",\"PRODUCTS\"])[\"Quantity (000 Metric Tonnes)\"].max()\n",
        "print(m_p_c.unstack())"
      ],
      "metadata": {
        "colab": {
          "base_uri": "https://localhost:8080/"
        },
        "id": "cLtfHZv0gLSy",
        "outputId": "616f9e6e-31fc-4645-d088-4667c0225648"
      },
      "execution_count": null,
      "outputs": [
        {
          "output_type": "stream",
          "name": "stdout",
          "text": [
            "PRODUCTS      ATF  Bitumen  FO & LSHS      HSD     LDO      LPG  \\\n",
            "Month                                                             \n",
            "April      655.98   877.78     585.15  7818.33   96.06  2157.46   \n",
            "August     676.75   500.82     616.91  6670.06   82.26  2460.41   \n",
            "December   659.00   856.00     622.03  7787.43   92.56  2569.59   \n",
            "February   626.08   883.86     576.48  7002.79   84.98  2393.47   \n",
            "January    667.84   826.32     594.73  7178.07   91.52  2562.19   \n",
            "July       663.23   513.63     562.25  6885.46   76.99  2403.59   \n",
            "June       642.33   751.98     550.19  7905.78   94.21  2251.48   \n",
            "March      688.48  1061.63     591.16  7794.21  112.00  2472.33   \n",
            "May        670.58   863.68     599.93  8217.12   76.83  2347.11   \n",
            "November   617.86   845.25     581.76  7762.96   69.00  2461.31   \n",
            "October    615.78   659.62     592.40  7001.00   89.56  2481.02   \n",
            "September  592.14   415.00     604.33  6252.52   85.37  2440.86   \n",
            "\n",
            "PRODUCTS   Lubricants & Greases       MS  Naphtha   Others  Petroleum coke  \\\n",
            "Month                                                                        \n",
            "April                    355.46  2877.18  1163.63  1282.62         1726.36   \n",
            "August                   366.00  3093.32  1206.06  1530.86         1759.01   \n",
            "December                 449.86  2983.71  1212.00  1339.92         1682.81   \n",
            "February                 388.00  2776.40  1217.00  1354.23         1568.49   \n",
            "January                  392.00  2827.48  1209.00  1127.12         1781.87   \n",
            "July                     410.04  2983.66  1297.00  1213.42         1668.61   \n",
            "June                     318.71  3151.77  1218.00  1196.64         1595.94   \n",
            "March                    538.11  3107.59  1280.00  1952.59         1960.17   \n",
            "May                      322.95  3349.63  1171.03  1305.15         2500.00   \n",
            "November                 421.00  2860.92  1403.00  2516.00         1514.64   \n",
            "October                  458.19  2996.49  1346.00  1366.52         1722.47   \n",
            "September                396.00  2827.02  1120.00  1281.90         1381.87   \n",
            "\n",
            "PRODUCTS     SKO  \n",
            "Month             \n",
            "April      129.0  \n",
            "August     132.0  \n",
            "December   135.0  \n",
            "February   137.0  \n",
            "January    146.0  \n",
            "July       161.0  \n",
            "June       161.0  \n",
            "March      155.0  \n",
            "May        181.0  \n",
            "November   155.0  \n",
            "October    139.0  \n",
            "September  167.0  \n"
          ]
        }
      ]
    },
    {
      "cell_type": "markdown",
      "source": [
        "## **The minimum product consumption for each product on monthly basis**"
      ],
      "metadata": {
        "id": "SDRti3JOgYSK"
      }
    },
    {
      "cell_type": "code",
      "source": [
        "mn_p_c=df.groupby([\"Month\",\"PRODUCTS\"])[\"Quantity (000 Metric Tonnes)\"].min()\n",
        "print(mn_p_c.unstack())"
      ],
      "metadata": {
        "colab": {
          "base_uri": "https://localhost:8080/"
        },
        "id": "e7I75a6UhVWT",
        "outputId": "15fd5fb3-36a4-499c-c0ff-934892773df9"
      },
      "execution_count": null,
      "outputs": [
        {
          "output_type": "stream",
          "name": "stdout",
          "text": [
            "PRODUCTS     ATF  Bitumen  FO & LSHS      HSD    LDO      LPG  \\\n",
            "Month                                                           \n",
            "April       55.0   187.00     283.00  3252.00  28.00  2102.15   \n",
            "August     256.0   270.00     458.00  4843.00  62.00  2262.00   \n",
            "December   427.0   716.70     529.00  7192.00  65.14  2469.33   \n",
            "February   432.0   853.00     476.00  6510.92  56.05  2262.00   \n",
            "January    441.0   708.47     516.00  6365.63  50.20  2490.00   \n",
            "July       233.0   340.91     469.00  5506.00  60.01  2258.00   \n",
            "June       222.0   569.97     466.00  6195.27  57.36  2064.00   \n",
            "March      474.0   943.28     507.00  7225.00  78.55  2256.00   \n",
            "May        110.0   590.00     421.52  5494.00  54.76  2156.27   \n",
            "November   376.0   546.53     483.00  6505.85  56.86  2335.97   \n",
            "October    360.0   590.08     480.00  6616.31  66.19  2394.04   \n",
            "September  313.0   362.76     452.00  5487.00  62.05  2261.00   \n",
            "\n",
            "PRODUCTS   Lubricants & Greases       MS  Naphtha   Others  Petroleum coke  \\\n",
            "Month                                                                        \n",
            "April                    168.00   973.00   730.00   680.00          775.00   \n",
            "August                   242.82  2382.00   919.81   876.00          927.65   \n",
            "December                 297.19  2706.00  1039.61   981.28         1244.00   \n",
            "February                 333.17  2472.00  1067.14   992.16          794.00   \n",
            "January                  301.60  2472.98  1132.80  1016.71         1004.00   \n",
            "July                     310.63  2261.00  1043.87   932.00         1168.09   \n",
            "June                     244.00  2282.00   947.95   866.10         1004.44   \n",
            "March                    398.00  2740.00  1128.64  1116.28         1283.00   \n",
            "May                      148.00  1771.00   828.49   769.00          981.25   \n",
            "November                 301.78  2645.24   931.29  1127.79          926.12   \n",
            "October                  354.57  2655.00   860.54   937.00         1201.93   \n",
            "September                266.02  2451.00   976.96   894.00          891.11   \n",
            "\n",
            "PRODUCTS     SKO  \n",
            "Month             \n",
            "April      30.35  \n",
            "August     31.55  \n",
            "December   39.73  \n",
            "February   33.27  \n",
            "January    33.31  \n",
            "July       23.24  \n",
            "June       45.29  \n",
            "March      30.20  \n",
            "May        41.52  \n",
            "November   38.47  \n",
            "October    33.56  \n",
            "September  40.97  \n"
          ]
        }
      ]
    },
    {
      "cell_type": "markdown",
      "source": [
        "## **Targeting a specific product analysis over the years**\n"
      ],
      "metadata": {
        "id": "qvQTh1qklTDv"
      }
    },
    {
      "cell_type": "code",
      "source": [
        "product_name = str(input(\"Enter the product name:\\t\"))\n",
        "\n",
        "print(\"\\n\")\n",
        "if product_name not in df['PRODUCTS'].unique():\n",
        "  print(f\"Product '{product_name}' not found in the data.\")\n",
        "else:\n",
        "  product_data = df[df['PRODUCTS'] == product_name]\n",
        "  time_series = product_data.groupby(\"Year\")[\"Quantity (000 Metric Tonnes)\"].sum()\n",
        "\n",
        "  plt.figure(figsize=(10, 6))\n",
        "  time_series.plot(kind=\"bar\")\n",
        "  plt.xlabel(\"Year\")\n",
        "  plt.ylabel(\"Quantity (000 Metric Tonnes)\")\n",
        "  plt.title(f\"Bar Chart of Consumption for {product_name} by Year\")\n",
        "  plt.show()"
      ],
      "metadata": {
        "colab": {
          "base_uri": "https://localhost:8080/",
          "height": 637
        },
        "id": "D5Z0TUVL4Myf",
        "outputId": "5959dc03-c236-4628-97c2-18e0f2f0e42d"
      },
      "execution_count": null,
      "outputs": [
        {
          "output_type": "stream",
          "name": "stdout",
          "text": [
            "Enter the product name:\tLPG\n",
            "\n",
            "\n"
          ]
        },
        {
          "output_type": "display_data",
          "data": {
            "text/plain": [
              "<Figure size 1000x600 with 1 Axes>"
            ],
            "image/png": "[encoded data removed]"
          },
          "metadata": {}
        }
      ]
    },
    {
      "cell_type": "markdown",
      "source": [
        "## **Comparison of products by user perference**"
      ],
      "metadata": {
        "id": "QYeuFD0Hsc2l"
      }
    },
    {
      "cell_type": "code",
      "source": [
        "product1 = input(\"Enter the name of the first product: \")\n",
        "product2 = input(\"Enter the name of the second product: \")\n",
        "\n",
        "product1_data = df[df['PRODUCTS'] == product1]\n",
        "product2_data = df[df['PRODUCTS'] == product2]\n",
        "\n",
        "if product1_data.empty or product2_data.empty:\n",
        "  print(f\"One or both products '{product1}' and '{product2}' not found in the data.\")\n",
        "else:\n",
        "  avg_consumption_product1 = product1_data['Quantity (000 Metric Tonnes)'].mean()\n",
        "  avg_consumption_product2 = product2_data['Quantity (000 Metric Tonnes)'].mean()\n",
        "\n",
        "  print(f\"\\nAverage consumption comparison:\")\n",
        "  print(f\"{product1}: {avg_consumption_product1:.2f} thousand metric tonnes\")\n",
        "  print(f\"{product2}: {avg_consumption_product2:.2f} thousand metric tonnes\")\n",
        "\n",
        "  if avg_consumption_product1 > avg_consumption_product2:\n",
        "    print(f\"{product1} has a higher average consumption than {product2}.\")\n",
        "  elif avg_consumption_product1 < avg_consumption_product2:\n",
        "    print(f\"{product2} has a higher average consumption than {product1}.\")\n",
        "  else:\n",
        "    print(f\"\\n{product1} and {product2} have the same average consumption.\")"
      ],
      "metadata": {
        "colab": {
          "base_uri": "https://localhost:8080/"
        },
        "id": "ahdmh4Mkzu3s",
        "outputId": "f0a4e548-b7c7-413c-a936-9bebbe201459"
      },
      "execution_count": null,
      "outputs": [
        {
          "output_type": "stream",
          "name": "stdout",
          "text": [
            "Enter the name of the first product: ATF\n",
            "Enter the name of the second product: LPG\n",
            "\n",
            "Average consumption comparison:\n",
            "ATF: 473.02 thousand metric tonnes\n",
            "LPG: 2339.01 thousand metric tonnes\n",
            "LPG has a higher average consumption than ATF.\n"
          ]
        }
      ]
    },
    {
      "cell_type": "markdown",
      "source": [
        "## **A analysis on a specific month & year of a product**"
      ],
      "metadata": {
        "id": "nrB5D3f69mPt"
      }
    },
    {
      "cell_type": "code",
      "source": [
        "product_name = input(\"Enter the product name:\\t \")\n",
        "year = int(input(\"Enter the year:\\t \"))\n",
        "month = str(input(\"Enter the month:\\t \"))\n",
        "\n",
        "if month is None:\n",
        "  print(f\"Invalid month entered. Please enter a valid month name.\")\n",
        "else:\n",
        "  filtered_data = df[(df['Year'] == int(year)) & (df['Month'] == month) & (df['PRODUCTS'] == product_name)]\n",
        "\n",
        "if filtered_data.empty:\n",
        "    print(f\"No data found for {product_name} in {month_str} {year}.\")\n",
        "else:\n",
        "    quantity = filtered_data['Quantity (000 Metric Tonnes)'].sum()\n",
        "    print(f\"Quantity produced for {product_name} in {month_str} {year}: {quantity} thousand metric tonnes\")"
      ],
      "metadata": {
        "colab": {
          "base_uri": "https://localhost:8080/"
        },
        "id": "nMp97Z_B_del",
        "outputId": "0f0187a3-3cf1-412b-e74e-df4b8e5835da"
      },
      "execution_count": null,
      "outputs": [
        {
          "output_type": "stream",
          "name": "stdout",
          "text": [
            "Enter the product name:\t LPG\n",
            "Enter the year:\t 2022\n",
            "Enter the month:\t March\n",
            "Quantity produced for LPG in June 2022: 2472.33 thousand metric tonnes\n"
          ]
        }
      ]
    }
  ]
}